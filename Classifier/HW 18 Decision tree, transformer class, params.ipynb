{
 "cells": [
  {
   "cell_type": "code",
   "execution_count": 1,
   "metadata": {
    "id": "x9TbZ0UyyF0I"
   },
   "outputs": [],
   "source": [
    "import pandas as pd\n",
    "import numpy as np\n",
    "import matplotlib.pyplot as plt\n",
    "import seaborn as sns\n",
    "\n",
    "pd.options.display.max_columns = 500"
   ]
  },
  {
   "cell_type": "markdown",
   "metadata": {
    "id": "eCHwqIE8yF0M"
   },
   "source": [
    "### Загрузим датасет с машинами. Цель - верно восстанавливать для каждой из них цену продажи!"
   ]
  },
  {
   "cell_type": "code",
   "execution_count": 2,
   "metadata": {
    "id": "vHohclJJyF0O"
   },
   "outputs": [
    {
     "data": {
      "text/html": [
       "<div>\n",
       "<style scoped>\n",
       "    .dataframe tbody tr th:only-of-type {\n",
       "        vertical-align: middle;\n",
       "    }\n",
       "\n",
       "    .dataframe tbody tr th {\n",
       "        vertical-align: top;\n",
       "    }\n",
       "\n",
       "    .dataframe thead th {\n",
       "        text-align: right;\n",
       "    }\n",
       "</style>\n",
       "<table border=\"1\" class=\"dataframe\">\n",
       "  <thead>\n",
       "    <tr style=\"text-align: right;\">\n",
       "      <th></th>\n",
       "      <th>name</th>\n",
       "      <th>year</th>\n",
       "      <th>selling_price</th>\n",
       "      <th>km_driven</th>\n",
       "      <th>fuel</th>\n",
       "      <th>seller_type</th>\n",
       "      <th>transmission</th>\n",
       "      <th>owner</th>\n",
       "    </tr>\n",
       "  </thead>\n",
       "  <tbody>\n",
       "    <tr>\n",
       "      <th>0</th>\n",
       "      <td>Maruti 800 AC</td>\n",
       "      <td>2007</td>\n",
       "      <td>60000</td>\n",
       "      <td>70000</td>\n",
       "      <td>Petrol</td>\n",
       "      <td>Individual</td>\n",
       "      <td>Manual</td>\n",
       "      <td>First Owner</td>\n",
       "    </tr>\n",
       "    <tr>\n",
       "      <th>1</th>\n",
       "      <td>Maruti Wagon R LXI Minor</td>\n",
       "      <td>2007</td>\n",
       "      <td>135000</td>\n",
       "      <td>50000</td>\n",
       "      <td>Petrol</td>\n",
       "      <td>Individual</td>\n",
       "      <td>Manual</td>\n",
       "      <td>First Owner</td>\n",
       "    </tr>\n",
       "    <tr>\n",
       "      <th>2</th>\n",
       "      <td>Hyundai Verna 1.6 SX</td>\n",
       "      <td>2012</td>\n",
       "      <td>600000</td>\n",
       "      <td>100000</td>\n",
       "      <td>Diesel</td>\n",
       "      <td>Individual</td>\n",
       "      <td>Manual</td>\n",
       "      <td>First Owner</td>\n",
       "    </tr>\n",
       "    <tr>\n",
       "      <th>3</th>\n",
       "      <td>Datsun RediGO T Option</td>\n",
       "      <td>2017</td>\n",
       "      <td>250000</td>\n",
       "      <td>46000</td>\n",
       "      <td>Petrol</td>\n",
       "      <td>Individual</td>\n",
       "      <td>Manual</td>\n",
       "      <td>First Owner</td>\n",
       "    </tr>\n",
       "    <tr>\n",
       "      <th>4</th>\n",
       "      <td>Honda Amaze VX i-DTEC</td>\n",
       "      <td>2014</td>\n",
       "      <td>450000</td>\n",
       "      <td>141000</td>\n",
       "      <td>Diesel</td>\n",
       "      <td>Individual</td>\n",
       "      <td>Manual</td>\n",
       "      <td>Second Owner</td>\n",
       "    </tr>\n",
       "  </tbody>\n",
       "</table>\n",
       "</div>"
      ],
      "text/plain": [
       "                       name  year  selling_price  km_driven    fuel  \\\n",
       "0             Maruti 800 AC  2007          60000      70000  Petrol   \n",
       "1  Maruti Wagon R LXI Minor  2007         135000      50000  Petrol   \n",
       "2      Hyundai Verna 1.6 SX  2012         600000     100000  Diesel   \n",
       "3    Datsun RediGO T Option  2017         250000      46000  Petrol   \n",
       "4     Honda Amaze VX i-DTEC  2014         450000     141000  Diesel   \n",
       "\n",
       "  seller_type transmission         owner  \n",
       "0  Individual       Manual   First Owner  \n",
       "1  Individual       Manual   First Owner  \n",
       "2  Individual       Manual   First Owner  \n",
       "3  Individual       Manual   First Owner  \n",
       "4  Individual       Manual  Second Owner  "
      ]
     },
     "execution_count": 2,
     "metadata": {},
     "output_type": "execute_result"
    }
   ],
   "source": [
    "data = pd.read_csv('autos.csv')\n",
    "\n",
    "data.head()"
   ]
  },
  {
   "cell_type": "code",
   "execution_count": 3,
   "metadata": {
    "id": "_48JHObiyF0P"
   },
   "outputs": [],
   "source": [
    "### Колонка с тергетом - \"selling price\"\n",
    "\n",
    "X = data.drop(\"selling_price\", axis=1)\n",
    "y = data[\"selling_price\"]\n",
    "\n",
    "### Будем замерять MSLE!\n",
    "### Поэтому прологарифмируем таргет\n",
    "### А после оптимизируем MSE\n",
    "\n",
    "y = y.apply(np.log1p)"
   ]
  },
  {
   "cell_type": "code",
   "execution_count": 4,
   "metadata": {
    "id": "-7qoCjH_yF0Q"
   },
   "outputs": [],
   "source": [
    "### Разделим выборку на трейн и тест!\n",
    "\n",
    "from sklearn.model_selection import train_test_split \n",
    "\n",
    "X_train, X_test, y_train, y_test = train_test_split(X, y, test_size=0.2, random_state=1)"
   ]
  },
  {
   "cell_type": "markdown",
   "metadata": {
    "id": "T2Cawl_lyF0Q"
   },
   "source": [
    "__Задание__ \n",
    "\n",
    "Реализуйте свой MeanTargetEncoder с добавленем некоторого шума!\n",
    "\n",
    "Однажды в лекционном материале, обсуждая счетчики, мы говорили с вами о том, что из-за них модели могут переобучаться. Один из способов бороться с этим - валидировать расчеты среднего таргета (стратегия отложенной выборки / расчеты на кросс-валидации). Но есть еще проще!\n",
    "\n",
    "Можно просто к значению счетчика добавить случайный шум (зашумить данные)!\n",
    "\n",
    "Напомним, что рассчитываться новые признаки должны по такой формуле:\n",
    "\n",
    "$$\n",
    "g_j = \\frac{\\sum_{i=1}^{l} [f_j(x) = f_j(x_i)]}{l} + C * \\epsilon\n",
    "$$\n",
    "\n",
    "\n",
    "\n",
    "Пусть шум будет случайной величиной из нормального стандартного распределения, то есть $\\epsilon \\sim N(0, 1) $, а $ C = 0.006$."
   ]
  },
  {
   "cell_type": "markdown",
   "metadata": {
    "id": "DeVJ1WRbyF0R"
   },
   "source": [
    "Создавая свой класс-трансформер, наследуйтесь от классов `BaseEstimator, TransformerMixin` из `sklearn.base`. Трансформер не должен модифицировать передаваемую ему выборку inplace, а все необходимые статистики нужно считать только по обучающей выборке в методе `fit`. Ваш трансформер должен принимать при инициализации список из категориальных признаков и список из числовых признаков. \n",
    "\n",
    "Если для какого-то признака в тестовой выборке отсутствует значение, трансформер должен поставить там 0.\n",
    "\n",
    "На выходе должен получиться датасет того же размера с измененными категориальными признаками."
   ]
  },
  {
   "cell_type": "markdown",
   "metadata": {
    "id": "Yvgr07YgVpkR"
   },
   "source": [
    "Класс MeanTargetEncoderNoise должен иметь следующую сигнатуру:\n",
    "\n"
   ]
  },
  {
   "cell_type": "markdown",
   "metadata": {
    "id": "ZcM2Ax1CWBlY"
   },
   "source": [
    "from sklearn.base import BaseEstimator, TransformerMixin\n",
    "\n",
    "class MeanTargetEncoderNoise(BaseEstimator, TransformerMixin):\n",
    "    \n",
    "    def __init__(self, categorical, numeric):              \n",
    "        ### Your code is here\n",
    "    \n",
    "    def fit(self, X, y):\n",
    "        ### Your code is here\n",
    "\n",
    "        return self\n",
    "        \n",
    "    def transform(self, df):\n",
    "        ### Your code is here\n",
    "                \n",
    "        return temp"
   ]
  },
  {
   "cell_type": "markdown",
   "metadata": {
    "id": "4s8IjJMbViVS"
   },
   "source": [
    "Разделите колонки на вещественные и категориальные. Приведите все категориальные колонки к типу `object`.\n",
    "\n",
    "Далее применим наш кодировщик к `X_train, X_test`, так же как например мы применяем `StandardScaler`, чтобы проверить работоспособность нашего класса. Установите зерно датчика случайный чисел `np.random.seed(1)`.\n",
    "\n",
    "После того, как вы изменили обучающую и тестовую выборки, сохраните первые 10 строк полученного промежуточного датафрейма обучающей выборки (`X_train`) в файл в формате csv с сепаратором `;`. Не забудьте индекс. Отправьте полученный файл в форму ниже.\n",
    "\n",
    "Список колонок которые должны быть в файле для сдачи:\n",
    "```py\n",
    "cols = [\n",
    "    \"km_driven\",\n",
    "    \"name\",\n",
    "    \"year\",\n",
    "    \"fuel\",\n",
    "    \"seller_type\",\n",
    "    \"transmission\",\n",
    "    \"owner\"\n",
    "]\n",
    "```"
   ]
  },
  {
   "cell_type": "markdown",
   "metadata": {
    "id": "942UEr0bV7yb"
   },
   "source": [
    "### Ваше решение\n"
   ]
  },
  {
   "cell_type": "markdown",
   "metadata": {
    "id": "GLSV8-OrWO6_"
   },
   "source": [
    "Разделение колонок на категориальные и числовые."
   ]
  },
  {
   "cell_type": "code",
   "execution_count": 5,
   "metadata": {
    "id": "jfENggauyF0S"
   },
   "outputs": [
    {
     "data": {
      "text/html": [
       "<div>\n",
       "<style scoped>\n",
       "    .dataframe tbody tr th:only-of-type {\n",
       "        vertical-align: middle;\n",
       "    }\n",
       "\n",
       "    .dataframe tbody tr th {\n",
       "        vertical-align: top;\n",
       "    }\n",
       "\n",
       "    .dataframe thead th {\n",
       "        text-align: right;\n",
       "    }\n",
       "</style>\n",
       "<table border=\"1\" class=\"dataframe\">\n",
       "  <thead>\n",
       "    <tr style=\"text-align: right;\">\n",
       "      <th></th>\n",
       "      <th>name</th>\n",
       "      <th>year</th>\n",
       "      <th>km_driven</th>\n",
       "      <th>fuel</th>\n",
       "      <th>seller_type</th>\n",
       "      <th>transmission</th>\n",
       "      <th>owner</th>\n",
       "    </tr>\n",
       "  </thead>\n",
       "  <tbody>\n",
       "    <tr>\n",
       "      <th>0</th>\n",
       "      <td>Maruti 800 AC</td>\n",
       "      <td>2007</td>\n",
       "      <td>70000</td>\n",
       "      <td>Petrol</td>\n",
       "      <td>Individual</td>\n",
       "      <td>Manual</td>\n",
       "      <td>First Owner</td>\n",
       "    </tr>\n",
       "    <tr>\n",
       "      <th>1</th>\n",
       "      <td>Maruti Wagon R LXI Minor</td>\n",
       "      <td>2007</td>\n",
       "      <td>50000</td>\n",
       "      <td>Petrol</td>\n",
       "      <td>Individual</td>\n",
       "      <td>Manual</td>\n",
       "      <td>First Owner</td>\n",
       "    </tr>\n",
       "    <tr>\n",
       "      <th>2</th>\n",
       "      <td>Hyundai Verna 1.6 SX</td>\n",
       "      <td>2012</td>\n",
       "      <td>100000</td>\n",
       "      <td>Diesel</td>\n",
       "      <td>Individual</td>\n",
       "      <td>Manual</td>\n",
       "      <td>First Owner</td>\n",
       "    </tr>\n",
       "    <tr>\n",
       "      <th>3</th>\n",
       "      <td>Datsun RediGO T Option</td>\n",
       "      <td>2017</td>\n",
       "      <td>46000</td>\n",
       "      <td>Petrol</td>\n",
       "      <td>Individual</td>\n",
       "      <td>Manual</td>\n",
       "      <td>First Owner</td>\n",
       "    </tr>\n",
       "    <tr>\n",
       "      <th>4</th>\n",
       "      <td>Honda Amaze VX i-DTEC</td>\n",
       "      <td>2014</td>\n",
       "      <td>141000</td>\n",
       "      <td>Diesel</td>\n",
       "      <td>Individual</td>\n",
       "      <td>Manual</td>\n",
       "      <td>Second Owner</td>\n",
       "    </tr>\n",
       "  </tbody>\n",
       "</table>\n",
       "</div>"
      ],
      "text/plain": [
       "                       name  year  km_driven    fuel seller_type transmission  \\\n",
       "0             Maruti 800 AC  2007      70000  Petrol  Individual       Manual   \n",
       "1  Maruti Wagon R LXI Minor  2007      50000  Petrol  Individual       Manual   \n",
       "2      Hyundai Verna 1.6 SX  2012     100000  Diesel  Individual       Manual   \n",
       "3    Datsun RediGO T Option  2017      46000  Petrol  Individual       Manual   \n",
       "4     Honda Amaze VX i-DTEC  2014     141000  Diesel  Individual       Manual   \n",
       "\n",
       "          owner  \n",
       "0   First Owner  \n",
       "1   First Owner  \n",
       "2   First Owner  \n",
       "3   First Owner  \n",
       "4  Second Owner  "
      ]
     },
     "execution_count": 5,
     "metadata": {},
     "output_type": "execute_result"
    }
   ],
   "source": [
    "object_cols = ['name', 'year', 'fuel', 'seller_type', 'transmission', 'owner']\n",
    "num_cols = ['km_driven']\n",
    "\n",
    "X.head()"
   ]
  },
  {
   "cell_type": "code",
   "execution_count": 6,
   "metadata": {},
   "outputs": [
    {
     "data": {
      "text/plain": [
       "name            object\n",
       "year             int64\n",
       "km_driven        int64\n",
       "fuel            object\n",
       "seller_type     object\n",
       "transmission    object\n",
       "owner           object\n",
       "dtype: object"
      ]
     },
     "execution_count": 6,
     "metadata": {},
     "output_type": "execute_result"
    }
   ],
   "source": [
    "X.dtypes"
   ]
  },
  {
   "cell_type": "markdown",
   "metadata": {
    "id": "Vudi3wkzWToS"
   },
   "source": [
    "Реализация класса MeanTargetEncoderNoise."
   ]
  },
  {
   "cell_type": "code",
   "execution_count": 7,
   "metadata": {
    "id": "038NwxXGyF0S"
   },
   "outputs": [],
   "source": [
    "from sklearn.base import BaseEstimator, TransformerMixin\n",
    "\n",
    "class MeanTargetEncoderNoise(BaseEstimator, TransformerMixin):\n",
    "    \n",
    "    def __init__(self, categorical, numeric, C=0.006):\n",
    "        \"\"\"\n",
    "        Инициализация трансформера.\n",
    "        \"\"\"\n",
    "        ### Your code is here\n",
    "\n",
    "        self.categorical = categorical\n",
    "        self.numeric = numeric\n",
    "        self.C = C\n",
    "        \n",
    "        self.mapping = {}\n",
    "        \n",
    "    \n",
    "    def fit(self, X, y):\n",
    "        \"\"\"\n",
    "        Среднее значение таргета для колонки\n",
    "        \"\"\"\n",
    "        ### Your code is here\n",
    "        X_fit = X.copy()\n",
    "        y_fit = y.copy()\n",
    "\n",
    "        for col in self.categorical:\n",
    "            mean_value = y_fit.groupby(X_fit[col]).mean()\n",
    "\n",
    "            noise = self.C * np.random.normal(0, 1, size=len(mean_value))\n",
    "            self.mapping[col] = mean_value + noise\n",
    "\n",
    "        return self\n",
    "        \n",
    "    def transform(self, df):\n",
    "        \"\"\"\n",
    "        Трансформирует категориальные признаки с использованием среднего таргета и шума.\n",
    "        \"\"\"\n",
    "        \n",
    "        df = df.copy()\n",
    "        temp = pd.DataFrame()\n",
    "        \n",
    "        for col in self.numeric:\n",
    "            temp[col] = df[col]\n",
    "            \n",
    "        for col in self.categorical:\n",
    "            if col in self.mapping:\n",
    "                temp[col] = df[col].map(self.mapping[col]).fillna(0)\n",
    "            else:\n",
    "                temp[col] = 0\n",
    "\n",
    "        \n",
    "        \n",
    "        return temp"
   ]
  },
  {
   "cell_type": "markdown",
   "metadata": {
    "id": "SDt0igudWbUE"
   },
   "source": [
    "Проверка работы трансформера."
   ]
  },
  {
   "cell_type": "code",
   "execution_count": 8,
   "metadata": {
    "id": "cQSYkr1WyF0T"
   },
   "outputs": [
    {
     "data": {
      "text/html": [
       "<div>\n",
       "<style scoped>\n",
       "    .dataframe tbody tr th:only-of-type {\n",
       "        vertical-align: middle;\n",
       "    }\n",
       "\n",
       "    .dataframe tbody tr th {\n",
       "        vertical-align: top;\n",
       "    }\n",
       "\n",
       "    .dataframe thead th {\n",
       "        text-align: right;\n",
       "    }\n",
       "</style>\n",
       "<table border=\"1\" class=\"dataframe\">\n",
       "  <thead>\n",
       "    <tr style=\"text-align: right;\">\n",
       "      <th></th>\n",
       "      <th>km_driven</th>\n",
       "      <th>name</th>\n",
       "      <th>year</th>\n",
       "      <th>fuel</th>\n",
       "      <th>seller_type</th>\n",
       "      <th>transmission</th>\n",
       "      <th>owner</th>\n",
       "    </tr>\n",
       "  </thead>\n",
       "  <tbody>\n",
       "    <tr>\n",
       "      <th>3294</th>\n",
       "      <td>50000</td>\n",
       "      <td>13.483692</td>\n",
       "      <td>13.436559</td>\n",
       "      <td>13.093756</td>\n",
       "      <td>12.615863</td>\n",
       "      <td>13.771135</td>\n",
       "      <td>12.977730</td>\n",
       "    </tr>\n",
       "    <tr>\n",
       "      <th>2290</th>\n",
       "      <td>70000</td>\n",
       "      <td>12.117029</td>\n",
       "      <td>11.903115</td>\n",
       "      <td>12.453832</td>\n",
       "      <td>12.615863</td>\n",
       "      <td>13.771135</td>\n",
       "      <td>12.977730</td>\n",
       "    </tr>\n",
       "    <tr>\n",
       "      <th>874</th>\n",
       "      <td>50000</td>\n",
       "      <td>12.310456</td>\n",
       "      <td>13.328864</td>\n",
       "      <td>12.453832</td>\n",
       "      <td>12.615863</td>\n",
       "      <td>12.639805</td>\n",
       "      <td>12.977730</td>\n",
       "    </tr>\n",
       "    <tr>\n",
       "      <th>1907</th>\n",
       "      <td>92198</td>\n",
       "      <td>12.491443</td>\n",
       "      <td>13.042359</td>\n",
       "      <td>12.453832</td>\n",
       "      <td>13.152824</td>\n",
       "      <td>12.639805</td>\n",
       "      <td>12.463313</td>\n",
       "    </tr>\n",
       "    <tr>\n",
       "      <th>3244</th>\n",
       "      <td>3240</td>\n",
       "      <td>12.390906</td>\n",
       "      <td>12.870886</td>\n",
       "      <td>12.453832</td>\n",
       "      <td>12.615863</td>\n",
       "      <td>12.639805</td>\n",
       "      <td>12.463313</td>\n",
       "    </tr>\n",
       "    <tr>\n",
       "      <th>1089</th>\n",
       "      <td>10000</td>\n",
       "      <td>12.687432</td>\n",
       "      <td>13.436559</td>\n",
       "      <td>12.453832</td>\n",
       "      <td>13.152824</td>\n",
       "      <td>12.639805</td>\n",
       "      <td>12.977730</td>\n",
       "    </tr>\n",
       "    <tr>\n",
       "      <th>3902</th>\n",
       "      <td>90000</td>\n",
       "      <td>11.698702</td>\n",
       "      <td>11.503504</td>\n",
       "      <td>12.453832</td>\n",
       "      <td>12.615863</td>\n",
       "      <td>12.639805</td>\n",
       "      <td>11.878390</td>\n",
       "    </tr>\n",
       "    <tr>\n",
       "      <th>2215</th>\n",
       "      <td>79000</td>\n",
       "      <td>11.120678</td>\n",
       "      <td>11.503504</td>\n",
       "      <td>12.453832</td>\n",
       "      <td>12.615863</td>\n",
       "      <td>12.639805</td>\n",
       "      <td>12.463313</td>\n",
       "    </tr>\n",
       "    <tr>\n",
       "      <th>3862</th>\n",
       "      <td>99700</td>\n",
       "      <td>13.172879</td>\n",
       "      <td>13.328864</td>\n",
       "      <td>13.093756</td>\n",
       "      <td>12.615863</td>\n",
       "      <td>12.639805</td>\n",
       "      <td>12.977730</td>\n",
       "    </tr>\n",
       "    <tr>\n",
       "      <th>705</th>\n",
       "      <td>124000</td>\n",
       "      <td>13.004194</td>\n",
       "      <td>12.241213</td>\n",
       "      <td>13.093756</td>\n",
       "      <td>12.615863</td>\n",
       "      <td>12.639805</td>\n",
       "      <td>12.463313</td>\n",
       "    </tr>\n",
       "  </tbody>\n",
       "</table>\n",
       "</div>"
      ],
      "text/plain": [
       "      km_driven       name       year       fuel  seller_type  transmission  \\\n",
       "3294      50000  13.483692  13.436559  13.093756    12.615863     13.771135   \n",
       "2290      70000  12.117029  11.903115  12.453832    12.615863     13.771135   \n",
       "874       50000  12.310456  13.328864  12.453832    12.615863     12.639805   \n",
       "1907      92198  12.491443  13.042359  12.453832    13.152824     12.639805   \n",
       "3244       3240  12.390906  12.870886  12.453832    12.615863     12.639805   \n",
       "1089      10000  12.687432  13.436559  12.453832    13.152824     12.639805   \n",
       "3902      90000  11.698702  11.503504  12.453832    12.615863     12.639805   \n",
       "2215      79000  11.120678  11.503504  12.453832    12.615863     12.639805   \n",
       "3862      99700  13.172879  13.328864  13.093756    12.615863     12.639805   \n",
       "705      124000  13.004194  12.241213  13.093756    12.615863     12.639805   \n",
       "\n",
       "          owner  \n",
       "3294  12.977730  \n",
       "2290  12.977730  \n",
       "874   12.977730  \n",
       "1907  12.463313  \n",
       "3244  12.463313  \n",
       "1089  12.977730  \n",
       "3902  11.878390  \n",
       "2215  12.463313  \n",
       "3862  12.977730  \n",
       "705   12.463313  "
      ]
     },
     "execution_count": 8,
     "metadata": {},
     "output_type": "execute_result"
    }
   ],
   "source": [
    "np.random.seed(1)\n",
    "transformer = MeanTargetEncoderNoise(categorical=object_cols, numeric=num_cols)\n",
    "\n",
    "transformer.fit(X_train, y_train)\n",
    "\n",
    "train = transformer.transform(X_train)\n",
    "test = transformer.transform(X_test)\n",
    "\n",
    "train.head(10)"
   ]
  },
  {
   "cell_type": "code",
   "execution_count": 9,
   "metadata": {},
   "outputs": [],
   "source": [
    "train.head(10).to_csv('transformed_data.csv', sep=';', index=False)"
   ]
  },
  {
   "cell_type": "markdown",
   "metadata": {
    "id": "-9cgA3knyF0U"
   },
   "source": [
    "Обучите несколько деревьев, перебирая максимальную глубину алгоритма из списка `max_depth_list`, а остальные параметры оставьте дефолтными. Выведите лучшее значение гиперпараметра. Постройте график зависимости MSLE на тестовой выборке от значения гиперпараметра. Воспользуйтесь `Pipeline` без `GridSearch`. Проделайте то же самое с `min_samples_split`, `min_impurity_decrease`, `max_leaf_nodes`. (по 2б на каждый параметр)"
   ]
  },
  {
   "cell_type": "code",
   "execution_count": 10,
   "metadata": {
    "id": "VQCYxECdyF0U"
   },
   "outputs": [],
   "source": [
    "max_depth_list = [3, 5, 8, 12]\n",
    "min_samples_split_list = [10, 50, 100, 500]\n",
    "min_impurity_decrease_list = [0, 0.1, 0.15, 0.2]\n",
    "max_leaf_nodes_list = [100, 200, 500]"
   ]
  },
  {
   "cell_type": "code",
   "execution_count": 11,
   "metadata": {
    "id": "rRRl1cBayF0U"
   },
   "outputs": [
    {
     "name": "stdout",
     "output_type": "stream",
     "text": [
      "При max_depth = 3, msle = 0.7978271003064056\n",
      "При max_depth = 5, msle = 1.4407231108105145\n",
      "При max_depth = 8, msle = 1.9873781361756884\n",
      "При max_depth = 12, msle = 1.9828152222115598\n"
     ]
    },
    {
     "data": {
      "text/plain": [
       "Text(0.5, 1.0, 'График зависимости msle от max depth')"
      ]
     },
     "execution_count": 11,
     "metadata": {},
     "output_type": "execute_result"
    },
    {
     "data": {
      "image/png": "[encoded data removed]",
      "text/plain": [
       "<Figure size 600x400 with 1 Axes>"
      ]
     },
     "metadata": {},
     "output_type": "display_data"
    }
   ],
   "source": [
    "from sklearn.metrics import mean_squared_error as mse\n",
    "from sklearn.tree import DecisionTreeRegressor\n",
    "from sklearn.pipeline import Pipeline\n",
    "\n",
    "np.random.seed(1)\n",
    "\n",
    "### Your code is here\n",
    "max_depth_msle = []\n",
    "for max_depth in max_depth_list:\n",
    "    pipe = Pipeline([\n",
    "        ('castom_transformer', transformer),\n",
    "        ('decision_tree', DecisionTreeRegressor(max_depth=max_depth))\n",
    "    ])\n",
    "    \n",
    "    pipe.fit(X_train, y_train)\n",
    "\n",
    "    predict = pipe.predict(X_test)\n",
    "\n",
    "    msle = mse(y_test, predict)\n",
    "    max_depth_msle.append(msle)\n",
    "    print(f'При max_depth = {max_depth}, msle = {msle}')\n",
    "\n",
    "plt.figure(figsize=(6, 4))\n",
    "\n",
    "plt.plot(max_depth_msle, max_depth_list, marker='o', color='b', markersize=8)\n",
    "plt.xlabel('msle')\n",
    "plt.ylabel('max depth')\n",
    "plt.title('График зависимости msle от max depth')\n"
   ]
  },
  {
   "cell_type": "code",
   "execution_count": 16,
   "metadata": {},
   "outputs": [
    {
     "name": "stdout",
     "output_type": "stream",
     "text": [
      "При min_samples_split = 10, msle = 1.4307314066133339\n",
      "При min_samples_split = 50, msle = 1.438270133690429\n",
      "При min_samples_split = 100, msle = 0.9524464736435937\n",
      "При min_samples_split = 500, msle = 0.8077891374012307\n"
     ]
    },
    {
     "data": {
      "text/plain": [
       "Text(0.5, 1.0, 'График зависимости msle от min_samples_split')"
      ]
     },
     "execution_count": 16,
     "metadata": {},
     "output_type": "execute_result"
    },
    {
     "data": {
      "image/png": "[encoded data removed]",
      "text/plain": [
       "<Figure size 600x400 with 1 Axes>"
      ]
     },
     "metadata": {},
     "output_type": "display_data"
    }
   ],
   "source": [
    "np.random.seed(1)\n",
    "\n",
    "### Your code is here\n",
    "min_samples_split_msle = []\n",
    "for min_samples_split in min_samples_split_list:\n",
    "    pipe = Pipeline([\n",
    "        ('castom_transformer', transformer),\n",
    "        ('decision_tree', DecisionTreeRegressor(min_samples_split=min_samples_split))\n",
    "    ])\n",
    "    \n",
    "    pipe.fit(X_train, y_train)\n",
    "\n",
    "    predict = pipe.predict(X_test)\n",
    "\n",
    "    msle = mse(y_test, predict)\n",
    "    min_samples_split_msle.append(msle)\n",
    "    print(f'При min_samples_split = {min_samples_split}, msle = {msle}')\n",
    "\n",
    "plt.figure(figsize=(6, 4))\n",
    "\n",
    "plt.plot(min_samples_split_msle, min_samples_split_list, marker='o', color='b', markersize=8)\n",
    "plt.xlabel('msle')\n",
    "plt.ylabel('min_samples_split')\n",
    "plt.title('График зависимости msle от min_samples_split')"
   ]
  },
  {
   "cell_type": "code",
   "execution_count": 17,
   "metadata": {},
   "outputs": [
    {
     "name": "stdout",
     "output_type": "stream",
     "text": [
      "При min_impurity_decrease = 0, msle = 1.9814229178680083\n",
      "При min_impurity_decrease = 0.1, msle = 0.5200098587235553\n",
      "При min_impurity_decrease = 0.15, msle = 0.52000985872357\n",
      "При min_impurity_decrease = 0.2, msle = 0.5189515041093942\n"
     ]
    },
    {
     "data": {
      "text/plain": [
       "Text(0.5, 1.0, 'График зависимости msle от min_impurity_decreas')"
      ]
     },
     "execution_count": 17,
     "metadata": {},
     "output_type": "execute_result"
    },
    {
     "data": {
      "image/png": "[encoded data removed]",
      "text/plain": [
       "<Figure size 600x400 with 1 Axes>"
      ]
     },
     "metadata": {},
     "output_type": "display_data"
    }
   ],
   "source": [
    "np.random.seed(1)\n",
    "\n",
    "'''\n",
    "Если значение min_impurity_decrease установлено больше нуля, то дерево будет продолжать делиться только в том случае, \n",
    "если улучшение (снижение неоднородности) по сравнению с предыдущим узлом больше или равно этому значению.\n",
    "'''\n",
    "\n",
    "### Your code is here\n",
    "min_impurity_decrease_msle = []\n",
    "for min_impurity_decrease in min_impurity_decrease_list:\n",
    "    pipe = Pipeline([\n",
    "        ('castom_transformer', transformer),\n",
    "        ('decision_tree', DecisionTreeRegressor(min_impurity_decrease=min_impurity_decrease))\n",
    "    ])\n",
    "    \n",
    "    pipe.fit(X_train, y_train)\n",
    "\n",
    "    predict = pipe.predict(X_test)\n",
    "\n",
    "    msle = mse(y_test, predict)\n",
    "    min_impurity_decrease_msle.append(msle)\n",
    "    print(f'При min_impurity_decrease = {min_impurity_decrease}, msle = {msle}')\n",
    "\n",
    "plt.figure(figsize=(6, 4))\n",
    "\n",
    "plt.plot(min_impurity_decrease_msle, min_impurity_decrease_list, marker='o', color='b', markersize=8)\n",
    "plt.xlabel('msle')\n",
    "plt.ylabel('min_impurity_decreas')\n",
    "plt.title('График зависимости msle от min_impurity_decreas')"
   ]
  },
  {
   "cell_type": "code",
   "execution_count": 14,
   "metadata": {},
   "outputs": [
    {
     "name": "stdout",
     "output_type": "stream",
     "text": [
      "При max_leaf_node = 100, msle = 1.9884077114548684\n",
      "При max_leaf_node = 200, msle = 1.9842728771306557\n",
      "При max_leaf_node = 500, msle = 1.980887170190223\n"
     ]
    },
    {
     "data": {
      "text/plain": [
       "Text(0.5, 1.0, 'График зависимости msle от max_leaf_nodes')"
      ]
     },
     "execution_count": 14,
     "metadata": {},
     "output_type": "execute_result"
    },
    {
     "data": {
      "image/png": "[encoded data removed]",
      "text/plain": [
       "<Figure size 600x400 with 1 Axes>"
      ]
     },
     "metadata": {},
     "output_type": "display_data"
    }
   ],
   "source": [
    "np.random.seed(1)\n",
    "\n",
    "### Your code is here\n",
    "max_leaf_nodes_msle = []\n",
    "for max_leaf_nodes in max_leaf_nodes_list:\n",
    "    pipe = Pipeline([\n",
    "        ('castom_transformer', transformer),\n",
    "        ('decision_tree', DecisionTreeRegressor(max_leaf_nodes=max_leaf_nodes))\n",
    "    ])\n",
    "    \n",
    "    pipe.fit(X_train, y_train)\n",
    "\n",
    "    predict = pipe.predict(X_test)\n",
    "\n",
    "    msle = mse(y_test, predict)\n",
    "    max_leaf_nodes_msle.append(msle)\n",
    "    print(f'При max_leaf_node = {max_leaf_nodes}, msle = {msle}')\n",
    "\n",
    "plt.figure(figsize=(6, 4))\n",
    "\n",
    "plt.plot(max_leaf_nodes_msle, max_leaf_nodes_list, marker='o', color='b', markersize=8)\n",
    "plt.xlabel('msle')\n",
    "plt.ylabel('max_leaf_nodes')\n",
    "plt.title('График зависимости msle от max_leaf_nodes')"
   ]
  },
  {
   "cell_type": "markdown",
   "metadata": {},
   "source": [
    "Из графиков видно, что следующие параметры лучшие: \n",
    "1. max_depth = 3\n",
    "2. max_leaf_node = 500\n",
    "3. min_impurity_decrease = 0.2\n",
    "4. max_leaf_node = 500"
   ]
  },
  {
   "cell_type": "markdown",
   "metadata": {
    "id": "TBkYnUa7yF0V"
   },
   "source": [
    "Подберите лучшую комбинацию параметров, используя `GridSearchCV` и набор массивов значений параметров из предыдущего задания. Для лучшей комбинации посчитайте MSLE на тестовой выборке. Получились ли лучшие параметры такими же, как если бы вы подбирали их по-отдельности при остальных гиперпараметрах по умолчанию (предыдущее задание)? (2б)"
   ]
  },
  {
   "cell_type": "code",
   "execution_count": 31,
   "metadata": {
    "id": "CnUu33ojyF0V"
   },
   "outputs": [
    {
     "name": "stdout",
     "output_type": "stream",
     "text": [
      "Best score on train and params: -0.5711538048137028 \n",
      "{'decision_tree__max_depth': 12, 'decision_tree__max_leaf_nodes': 200, 'decision_tree__min_impurity_decrease': 0.1, 'decision_tree__min_samples_split': 100}\n",
      "Score on test: 0.5200098587235711\n"
     ]
    }
   ],
   "source": [
    "from sklearn.model_selection import GridSearchCV\n",
    "\n",
    "param_grid = {\n",
    "    \"decision_tree__max_depth\": [3, 5, 8, 12],\n",
    "    \"decision_tree__min_samples_split\": [10, 50, 100, 500],\n",
    "    \"decision_tree__min_impurity_decrease\": [0, 0.1, 0.15, 0.2],\n",
    "    \"decision_tree__max_leaf_nodes\": [100, 200, 500]\n",
    "}\n",
    "np.random.seed(1)\n",
    "\n",
    "### Your code is here\n",
    "\n",
    "pipe = Pipeline([\n",
    "    ('custom_transformer', transformer),\n",
    "    ('decision_tree', DecisionTreeRegressor())\n",
    "])\n",
    "\n",
    "search = GridSearchCV(pipe,\n",
    "                     param_grid,\n",
    "                     scoring='neg_mean_squared_error')\n",
    "\n",
    "search.fit(X_train, y_train)\n",
    "\n",
    "best_model = search.best_estimator_\n",
    "predictions = best_model.predict(X_test)\n",
    "\n",
    "print(f'Best score on train and params: {search.best_score_} ')\n",
    "print(search.best_params_)\n",
    "\n",
    "print(f'Score on test: {mse(y_test, predictions)}')\n",
    "\n"
   ]
  },
  {
   "cell_type": "code",
   "execution_count": null,
   "metadata": {},
   "outputs": [],
   "source": []
  }
 ],
 "metadata": {
  "colab": {
   "provenance": []
  },
  "interpreter": {
   "hash": "8db21564b35bbdf2f1295d2e540489014671416f5dc577a5b9d4ca56833a3713"
  },
  "kernelspec": {
   "display_name": "Python 3 (ipykernel)",
   "language": "python",
   "name": "python3"
  },
  "language_info": {
   "codemirror_mode": {
    "name": "ipython",
    "version": 3
   },
   "file_extension": ".py",
   "mimetype": "text/x-python",
   "name": "python",
   "nbconvert_exporter": "python",
   "pygments_lexer": "ipython3",
   "version": "3.12.4"
  }
 },
 "nbformat": 4,
 "nbformat_minor": 4
}
